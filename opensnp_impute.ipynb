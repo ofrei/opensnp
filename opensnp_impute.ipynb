{
 "cells": [
  {
   "cell_type": "code",
   "execution_count": 2,
   "metadata": {},
   "outputs": [],
   "source": [
    "import pandas as pd"
   ]
  },
  {
   "cell_type": "code",
   "execution_count": null,
   "metadata": {},
   "outputs": [],
   "source": [
    "# prepare data for imputation following these instructions:\n",
    "# * https://imputationserver.readthedocs.io/en/latest/prepare-your-data/\n",
    "# * https://www.chg.ox.ac.uk/~wrayner/tools/\n",
    "\n",
    "# place 1000GP_Phase3_combined.legend.gz into resources/ folder.\n",
    "#!wget https://www.chg.ox.ac.uk/~wrayner/tools/1000GP_Phase3_combined.legend.gz\n",
    "#!wget https://www.chg.ox.ac.uk/~wrayner/tools/HRC-1000G-check-bim-v4.2.13-NoReadKey.zip\n",
    "#!for BATCH in 'c1' 'c3' 'c4' 'c5' 'v5'; do perl HRC-1000G-check-bim-NoReadKey.pl -b qc/openSNP.$BATCH.qc.bim  -f qc/openSNP.$BATCH.qc.frq -r resources/1000GP_Phase3_combined.legend.gz -g -p ALL; done\n",
    "\n",
    "perl HRC-1000G-check-bim.pl -b qc/openSNP.c1.qc.bim  -f qc/openSNP.c1.qc.frq -r resources/1000GP_Phase3_combined.legend.gz -g -p ALL\n",
    "sh qc/Run-plink.sh\n",
    "\n",
    "perl HRC-1000G-check-bim.pl -b qc/openSNP.c3.qc.bim  -f qc/openSNP.c3.qc.frq -r resources/1000GP_Phase3_combined.legend.gz -g -p ALL\n",
    "sh qc/Run-plink.sh\n",
    "\n",
    "perl HRC-1000G-check-bim.pl -b qc/openSNP.c4.qc.bim  -f qc/openSNP.c4.qc.frq -r resources/1000GP_Phase3_combined.legend.gz -g -p ALL\n",
    "sh qc/Run-plink.sh\n",
    "\n",
    "perl HRC-1000G-check-bim.pl -b qc/openSNP.c5.qc.bim  -f qc/openSNP.c5.qc.frq -r resources/1000GP_Phase3_combined.legend.gz -g -p ALL\n",
    "sh qc/Run-plink.sh\n",
    "\n",
    "perl HRC-1000G-check-bim.pl -b qc/openSNP.v5.qc.bim  -f qc/openSNP.v5.qc.frq -r resources/1000GP_Phase3_combined.legend.gz -g -p ALL\n",
    "sh qc/Run-plink.sh\n",
    "\n"
   ]
  },
  {
   "cell_type": "code",
   "execution_count": null,
   "metadata": {},
   "outputs": [],
   "source": [
    "%%capture captured\n",
    "# [E::vcf_parse_format_fill5] Invalid character '\\'' in 'GT' FORMAT field at 4:47207808\n",
    "!echo rs1372496 > qc/rs1372496.exclude\n",
    "!plink --bfile qc/openSNP.c1.qc-updated-chr4 --exclude qc/rs1372496.exclude --make-bed --out qc/openSNP.c1.qc-updated-chr4.fix\n",
    "!plink --bfile qc/openSNP.c1.qc-updated-chr4.fix --real-ref-alleles --recode vcf --out qc/openSNP.c1.qc-updated-chr4.fix\n",
    "!./bcftools sort qc/openSNP.c1.qc-updated-chr4.fix.vcf -Oz -o to_impute/openSNP.c1.qc-updated-chr4.vcf.gz"
   ]
  },
  {
   "cell_type": "code",
   "execution_count": null,
   "metadata": {},
   "outputs": [],
   "source": [
    "#!for BATCH in 'c1' 'c3' 'c4' 'c5' 'v5'; do for CHR in {1..22}; do ./bcftools sort qc/openSNP.$BATCH.qc-updated-chr$CHR.vcf -Oz -o to_impute/openSNP.$BATCH.qc-updated-chr$CHR.vcf.gz; done; done\n",
    "!for BATCH in 'c5'; do for CHR in {1..22}; do ./bcftools sort qc/openSNP.$BATCH.qc-updated-chr$CHR.vcf -Oz -o to_impute/openSNP.$BATCH.qc-updated-chr$CHR.vcf.gz; done; done"
   ]
  },
  {
   "cell_type": "code",
   "execution_count": null,
   "metadata": {},
   "outputs": [],
   "source": [
    "#./imputationbot impute --files to_impute/openSNP.c1.qc-updated-chr*.vcf.gz --refpanel 1000g-phase-3-v5 --population mixed --autoDownload --password vfj8DheP7rPexvI2 --name c1 --r2Filter 0.3 --phasing beagle\n",
    "#./imputationbot impute --files to_impute/openSNP.c3.qc-updated-chr*.vcf.gz --refpanel 1000g-phase-3-v5 --population mixed --autoDownload --password vfj8DheP7rPexvI2 --name c3 --r2Filter 0.3 --phasing beagle\n",
    "#./imputationbot impute --files to_impute/openSNP.c4.qc-updated-chr*.vcf.gz --refpanel 1000g-phase-3-v5 --population mixed --autoDownload --password vfj8DheP7rPexvI2 --name c4 --r2Filter 0.3 --phasing beagle\n",
    "#./imputationbot impute --files to_impute/openSNP.c5.qc-updated-chr*.vcf.gz --refpanel 1000g-phase-3-v5 --population mixed --autoDownload --password vfj8DheP7rPexvI2 --name c5 --r2Filter 0.3 --phasing beagle\n",
    "#./imputationbot impute --files to_impute/openSNP.v5.qc-updated-chr*.vcf.gz --refpanel 1000g-phase-3-v5 --population mixed --autoDownload --password vfj8DheP7rPexvI2 --name v5 --r2Filter 0.3 --phasing beagle\n"
   ]
  },
  {
   "cell_type": "code",
   "execution_count": null,
   "metadata": {},
   "outputs": [],
   "source": [
    "#https://imputationbot.readthedocs.io/en/latest/\n",
    "    \n",
    "#https://imputationserver.sph.umich.edu/index.html#!jobs/job-20240221-180616-129 - c5, M=419995, N=420, all good\n",
    "#https://imputationserver.sph.umich.edu/index.html#!jobs/job-20240222-032940-665 - c5, M=419767, N=417, all good\n",
    "#https://imputationserver.sph.umich.edu/index.html#!jobs/job-20240221-181342-210 - c1, M=487032, N=1718, 1 chunk excl.  (chunk_14_0000000001_0020000000)\n",
    "#https://imputationserver.sph.umich.edu/index.html#!jobs/job-20240221-181430-626 - c3, M=602905, N=430, all good\n",
    "#https://imputationserver.sph.umich.edu/index.html#!jobs/job-20240222-011219-014 - c4, M=779090, N=942, all good\n",
    "#https://imputationserver.sph.umich.edu/index.html#!jobs/job-20240222-014202-411 - v5, M=524162, N=750, 2 chunks excl. (chunk_14_0000000001_0020000000 ; chunk_9_0040000001_0060000000)\n",
    "\n",
    "./imputationbot download job-20240222-032940-665 --password vfj8DheP7rPexvI2\n",
    "./imputationbot download job-20240221-181342-210 --password vfj8DheP7rPexvI2\n",
    "./imputationbot download job-20240221-181430-626 --password vfj8DheP7rPexvI2\n",
    "./imputationbot download job-20240222-011219-014 --password vfj8DheP7rPexvI2\n",
    "./imputationbot download job-20240222-014202-411 --password vfj8DheP7rPexvI2\n",
    "./imputationbot download job-20240221-180616-129 --password vfj8DheP7rPexvI2"
   ]
  },
  {
   "cell_type": "code",
   "execution_count": null,
   "metadata": {},
   "outputs": [],
   "source": [
    "for CHR in {1..22}; do\n",
    "zcat job-20240221-181342-210-c1/local/chr$CHR.info.gz | awk '{print $1}' | tail -n +2 > snps/file_c1.$CHR\n",
    "zcat job-20240221-181430-626-c3/local/chr$CHR.info.gz | awk '{print $1}' | tail -n +2 > snps/file_c3.$CHR\n",
    "zcat job-20240222-011219-014-c4/local/chr$CHR.info.gz | awk '{print $1}' | tail -n +2 > snps/file_c4.$CHR\n",
    "zcat job-20240222-032940-665-c5/local/chr$CHR.info.gz | awk '{print $1}' | tail -n +2 > snps/file_c5.$CHR\n",
    "zcat job-20240222-014202-411-v5/local/chr$CHR.info.gz | awk '{print $1}' | tail -n +2 > snps/file_v5.$CHR\n",
    "\n",
    "comm -12 <(sort snps/file_c1.$CHR) <(sort snps/file_c3.$CHR) > snps/file_c1c3.$CHR\n",
    "comm -12 <(sort snps/file_c1c3.$CHR) <(sort snps/file_c4.$CHR) > snps/file_c1c3c4.$CHR\n",
    "comm -12 <(sort snps/file_c1c3c4.$CHR) <(sort snps/file_c5.$CHR) > snps/file_c1c3c4c5.$CHR\n",
    "comm -12 <(sort snps/file_c1c3c4c5.$CHR) <(sort snps/file_v5.$CHR) > snps/file_c1c3c4c5v5.$CHR\n",
    "done\n",
    "\n",
    "# wc -l snps/file_c1c3c4c5v5.*  #  12.742.006 total\n",
    "\n",
    "for CHR in {1..22}; do\n",
    "    ./plink2 --vcf job-20240221-181342-210-c1/local/chr${CHR}.dose.vcf.gz --extract snps/file_c1c3c4c5v5.${CHR} --make-bed --out bfile/c1.chr${CHR}\n",
    "    ./plink2 --vcf job-20240221-181430-626-c3/local/chr${CHR}.dose.vcf.gz --extract snps/file_c1c3c4c5v5.${CHR} --make-bed --out bfile/c3.chr${CHR}    \n",
    "    ./plink2 --vcf job-20240222-011219-014-c4/local/chr${CHR}.dose.vcf.gz --extract snps/file_c1c3c4c5v5.${CHR} --make-bed --out bfile/c4.chr${CHR}    \n",
    "    ./plink2 --vcf job-20240222-032940-665-c5/local/chr${CHR}.dose.vcf.gz --extract snps/file_c1c3c4c5v5.${CHR} --make-bed --out bfile/c5.chr${CHR}    \n",
    "    ./plink2 --vcf job-20240222-014202-411-v5/local/chr${CHR}.dose.vcf.gz --extract snps/file_c1c3c4c5v5.${CHR} --make-bed --out bfile/v5.chr${CHR}    \n",
    "    \n",
    "    echo bfile/c3.chr${CHR} > bfile/merge_chr${CHR}.txt\n",
    "    echo bfile/c4.chr${CHR} >> bfile/merge_chr${CHR}.txt\n",
    "    echo bfile/c5.chr${CHR} >> bfile/merge_chr${CHR}.txt\n",
    "    echo bfile/v5.chr${CHR} >> bfile/merge_chr${CHR}.txt\n",
    "    ./plink --bfile bfile/c1.chr${CHR} --merge-list bfile/merge_chr${CHR}.txt --make-bed --out bfile/opensnp_chr${CHR}\n",
    "done\n"
   ]
  },
  {
   "cell_type": "code",
   "execution_count": null,
   "metadata": {},
   "outputs": [],
   "source": [
    "echo imputed/opensnp_chr2 > imputed/merge_list.txt\n",
    "for CHR in {3..22}; do\n",
    "    echo imputed/opensnp_chr${CHR} >> imputed/merge_list.txt\n",
    "done\n",
    "\n",
    "plink --bfile imputed/opensnp_chr1 --merge-list imputed/merge_list.txt --make-bed --out imputed/opensnp\n",
    "plink --bfile imputed/opensnp --freq --out imputed/opensnp\n",
    "perl HRC-1000G-check-bim.pl -b imputed/opensnp.bim  -f imputed/opensnp.frq -r resources/1000GP_Phase3_combined.legend.gz -g -p ALL"
   ]
  },
  {
   "cell_type": "code",
   "execution_count": null,
   "metadata": {
    "scrolled": true
   },
   "outputs": [],
   "source": [
    "df=pd.read_csv('imputed/ID-opensnp-1000G.txt', delim_whitespace=True, header=None, names=['OLD', 'NEW'])\n",
    "df['NEW'] = df['NEW'].str.split(':', expand=True)[0]\n",
    "df.to_csv('imputed/RSID-opensnp-1000G.txt',sep='\\t',index=False, header=None)"
   ]
  },
  {
   "cell_type": "code",
   "execution_count": 18,
   "metadata": {},
   "outputs": [],
   "source": [
    "%%capture captured\n",
    "!plink --bfile imputed/opensnp --update-name imputed/RSID-opensnp-1000G.txt --make-just-bim --out imputed/opensnp.updated\n",
    "!mv imputed/opensnp.bim imputed/opensnp.bim.original\n",
    "!mv imputed/opensnp.updated.bim imputed/opensnp.bim\n",
    "!plink --bfile imputed/opensnp --freq --out imputed/opensnp\n"
   ]
  },
  {
   "cell_type": "code",
   "execution_count": null,
   "metadata": {},
   "outputs": [],
   "source": [
    "df_bim=pd.read_csv('imputed/opensnp.bim', sep='\\t', header=None, names='CHR SNP GP BP A1 A2'.split())\n",
    "df_bim[df_bim.duplicated('SNP', keep=False)][['SNP']].drop_duplicates().to_csv('imputed/duplicated.rsid', sep='\\t', index=False, header=None)"
   ]
  },
  {
   "cell_type": "code",
   "execution_count": 33,
   "metadata": {},
   "outputs": [
    {
     "name": "stdout",
     "output_type": "stream",
     "text": [
      "1195793 imputed/opensnp_hm3.bim\r\n"
     ]
    }
   ],
   "source": [
    "!plink --bfile imputed/opensnp --extract imputed/w_hm3.justrs --exclude imputed/duplicated.rsid --make-bed --out imputed/opensnp_hm3\n",
    "!mv imputed/opensnp_hm3.fam imputed/opensnp_hm3.fam.original\n",
    "!wc -l imputed/opensnp_hm3.bim\n"
   ]
  },
  {
   "cell_type": "code",
   "execution_count": null,
   "metadata": {},
   "outputs": [],
   "source": []
  },
  {
   "cell_type": "code",
   "execution_count": 67,
   "metadata": {},
   "outputs": [],
   "source": [
    "df_sex = pd.concat([pd.read_csv(f'qc/openSNP.{BATCH}.sexcheck.sexcheck', delim_whitespace=True,dtype=str) for BATCH in 'c1 c3 c4 c5 v5'.split()])\n",
    "df_fam = pd.read_csv('imputed/opensnp_hm3.fam.original', delim_whitespace=True, header=None)[1].str.split('_', expand=True)\n",
    "df_fam.columns=['FID', 'IID']\n",
    "df_fam['FatherID'] = 0\n",
    "df_fam['MotherID'] = 0\n",
    "df_fam = pd.merge(df_fam, df_sex[['IID','SNPSEX']], how='left', on='IID')\n",
    "df_fam['pheno'] = -9\n",
    "df_fam.to_csv('imputed/opensnp_hm3.fam', sep='\\t', index=False, header=None)"
   ]
  },
  {
   "cell_type": "code",
   "execution_count": null,
   "metadata": {},
   "outputs": [],
   "source": []
  }
 ],
 "metadata": {
  "kernelspec": {
   "display_name": "Python 3 (ipykernel)",
   "language": "python",
   "name": "python3"
  },
  "language_info": {
   "codemirror_mode": {
    "name": "ipython",
    "version": 3
   },
   "file_extension": ".py",
   "mimetype": "text/x-python",
   "name": "python",
   "nbconvert_exporter": "python",
   "pygments_lexer": "ipython3",
   "version": "3.7.3"
  }
 },
 "nbformat": 4,
 "nbformat_minor": 2
}

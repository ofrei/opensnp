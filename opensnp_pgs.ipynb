{
 "cells": [
  {
   "cell_type": "code",
   "execution_count": 65,
   "metadata": {},
   "outputs": [],
   "source": [
    "%%capture captured\n",
    "# compute polygenic score for Height and 3 hair colors (blonde, black, brow)\n",
    "!./PRSice_linux \\\n",
    "        --base ukb_gwas/UKB_NEALELAB_2018_HEIGHT.GRCh37.hm3.gz \\\n",
    "        --a1 EffectAllele --a2 OtherAllele --beta --stat B --bp POS --chr CHR --pvalue P --snp RSID \\\n",
    "        --target imputed/opensnp_hm3 \\\n",
    "        --ld imputed/opensnp_hm3 \\\n",
    "        --out pgs/height_cm \\\n",
    "        --thread 6 \\\n",
    "        --bar-levels 5e-8,1e-6,1e-5,1e-4,1e-3,1e-2,0.05,0.1,0.5,1.0 --fastscore --no-full --all-score \\\n",
    "        --binary-target F --pheno qc/pheno.csv --ignore-fid --pheno-col \"height_cm\" \\\n",
    "        --cov qc/pheno.csv --cov-col \"sex,batch,@PC[1-10]\"  --cov-factor \"sex,batch\""
   ]
  },
  {
   "cell_type": "code",
   "execution_count": 60,
   "metadata": {},
   "outputs": [],
   "source": [
    "%%capture captured\n",
    "!./PRSice_linux \\\n",
    "        --base ukb_gwas/UKB_NEALELAB_2018_HAIR_BLONDE.GRCh37.hm3.gz \\\n",
    "        --a1 EffectAllele --a2 OtherAllele --beta --stat B --bp POS --chr CHR --pvalue P --snp RSID \\\n",
    "        --target imputed/opensnp_hm3 \\\n",
    "        --ld imputed/opensnp_hm3 \\\n",
    "        --out pgs/hair_blonde \\\n",
    "        --thread 6 \\\n",
    "        --bar-levels 5e-8,1e-6,1e-5,1e-4,1e-3,1e-2,0.05,0.1,0.5,1.0 --fastscore --no-full --all-score \\\n",
    "        --binary-target T --pheno qc/pheno.csv --ignore-fid --pheno-col \"hair_blonde\" \\\n",
    "        --cov qc/pheno.csv --cov-col \"sex,batch,@PC[1-10]\"  --cov-factor \"sex,batch\"\n"
   ]
  },
  {
   "cell_type": "code",
   "execution_count": 61,
   "metadata": {},
   "outputs": [],
   "source": [
    "%%capture captured\n",
    "!./PRSice_linux \\\n",
    "        --base ukb_gwas/UKB_NEALELAB_2018_HAIR_BLACK.GRCh37.hm3.gz \\\n",
    "        --a1 EffectAllele --a2 OtherAllele --beta --stat B --bp POS --chr CHR --pvalue P --snp RSID \\\n",
    "        --target imputed/opensnp_hm3 \\\n",
    "        --ld imputed/opensnp_hm3 \\\n",
    "        --out pgs/hair_black \\\n",
    "        --thread 6 \\\n",
    "        --bar-levels 5e-8,1e-6,1e-5,1e-4,1e-3,1e-2,0.05,0.1,0.5,1.0 --fastscore --no-full --all-score \\\n",
    "        --binary-target T --pheno qc/pheno.csv --ignore-fid --pheno-col \"hair_black\" \\\n",
    "        --cov qc/pheno.csv --cov-col \"sex,batch,@PC[1-10]\"  --cov-factor \"sex,batch\"\n"
   ]
  },
  {
   "cell_type": "code",
   "execution_count": 62,
   "metadata": {},
   "outputs": [],
   "source": [
    "%%capture captured\n",
    "!./PRSice_linux \\\n",
    "        --base ukb_gwas/UKB_NEALELAB_2018_HAIR_DARK_BROWN.GRCh37.hm3.gz \\\n",
    "        --a1 EffectAllele --a2 OtherAllele --beta --stat B --bp POS --chr CHR --pvalue P --snp RSID \\\n",
    "        --target imputed/opensnp_hm3 \\\n",
    "        --ld imputed/opensnp_hm3 \\\n",
    "        --out pgs/hair_brown \\\n",
    "        --thread 6 \\\n",
    "        --bar-levels 5e-8,1e-6,1e-5,1e-4,1e-3,1e-2,0.05,0.1,0.5,1.0 --fastscore --no-full --all-score \\\n",
    "        --binary-target T --pheno qc/pheno.csv --ignore-fid --pheno-col \"hair_brown\" \\\n",
    "        --cov qc/pheno.csv --cov-col \"sex,batch,@PC[1-10]\"  --cov-factor \"sex,batch\"\n"
   ]
  },
  {
   "cell_type": "code",
   "execution_count": 63,
   "metadata": {},
   "outputs": [
    {
     "name": "stdout",
     "output_type": "stream",
     "text": [
      "hair_brown prevalence per quintile: 1st - 0.40; 2nd-4th - 0.66; 5th - 0.78\n",
      "hair_black prevalence per quintile: 1st - 0.01; 2nd-4th - 0.02; 5th - 0.13\n",
      "hair_blonde prevalence per quintile: 1st - 0.09; 2nd-4th - 0.30; 5th - 0.50\n"
     ]
    }
   ],
   "source": [
    "# display prevalence of hair colors in each PGS group\n",
    "import numpy as np\n",
    "\n",
    "for pheno in ['hair_brown', 'hair_black', 'hair_blonde']:\n",
    "    df_pgs = pd.read_csv(f'pgs/{pheno}.best', delim_whitespace=True)\n",
    "    df_pheno = pd.read_csv('qc/pheno.csv', sep='\\t')\n",
    "    df_pgs = pd.merge(df_pgs[['IID', 'PRS']], df_pheno[['IID', pheno]]).dropna()\n",
    "\n",
    "    low20 = np.quantile(df_pgs['PRS'], 0.2)\n",
    "    high80 = np.quantile(df_pgs['PRS'], 0.8)\n",
    "    low_prev = df_pgs[df_pgs['PRS'] < low20][pheno].values.mean()\n",
    "    med_prev = df_pgs[(df_pgs['PRS'] >= low20) & (df_pgs['PRS'] <= high80)][pheno].values.mean()\n",
    "    high_prev = df_pgs[df_pgs['PRS'] > high80][pheno].values.mean()\n",
    "    print(f'{pheno} prevalence per quintile: 1st - {low_prev:.2f}; 2nd-4th - {med_prev:.2f}; 5th - {high_prev:.2f}')\n"
   ]
  },
  {
   "cell_type": "code",
   "execution_count": 66,
   "metadata": {},
   "outputs": [
    {
     "name": "stdout",
     "output_type": "stream",
     "text": [
      "PGS and height_cm correlation:  0.3857082268376786\n"
     ]
    },
    {
     "data": {
      "image/png": "[encoded data removed]",
      "text/plain": [
       "<Figure size 432x288 with 1 Axes>"
      ]
     },
     "metadata": {
      "needs_background": "light"
     },
     "output_type": "display_data"
    }
   ],
   "source": [
    "# plot height vs pgs(height)\n",
    "import pandas as pd\n",
    "import numpy as np\n",
    "import matplotlib.pyplot as plt\n",
    "\n",
    "pheno = 'height_cm'\n",
    "df_pgs = pd.read_csv(f'pgs/{pheno}.best', delim_whitespace=True)\n",
    "df_pheno = pd.read_csv('qc/pheno.csv', sep='\\t')\n",
    "df_pgs = pd.merge(df_pgs[['IID', 'PRS']], df_pheno[['IID', pheno]]).dropna()\n",
    "\n",
    "#df_plot[c] = (df_plot[c] - np.mean(df_plot[c].values) ) / np.std(df_plot[c].values)\n",
    "plt.plot(df_pgs['PRS'].values, df_pgs[pheno], '.')\n",
    "print(f'PGS and {pheno} correlation: ', np.corrcoef(df_pgs['PRS'].values, df_pgs[pheno].values)[0][1])"
   ]
  },
  {
   "cell_type": "code",
   "execution_count": null,
   "metadata": {},
   "outputs": [],
   "source": []
  }
 ],
 "metadata": {
  "kernelspec": {
   "display_name": "Python 3 (ipykernel)",
   "language": "python",
   "name": "python3"
  },
  "language_info": {
   "codemirror_mode": {
    "name": "ipython",
    "version": 3
   },
   "file_extension": ".py",
   "mimetype": "text/x-python",
   "name": "python",
   "nbconvert_exporter": "python",
   "pygments_lexer": "ipython3",
   "version": "3.7.3"
  }
 },
 "nbformat": 4,
 "nbformat_minor": 2
}

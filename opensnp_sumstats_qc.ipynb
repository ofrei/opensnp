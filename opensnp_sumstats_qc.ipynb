{
 "cells": [
  {
   "cell_type": "markdown",
   "metadata": {},
   "source": [
    "External summary statistics for the analyses are based on Ben Neale UK Biobank GWAS.\n",
    "The are described in the following manifest file:\n",
    "\n",
    "https://docs.google.com/spreadsheets/d/1kvPoupSzsSFBNSztMzl04xMoSC3Kcx3CrjVf4yBmESU/edit#gid=178908679\n",
    "\n",
    "The following summary stats were used:\n",
    "\n",
    "* 50_irnt       Standing height http://biobank.ctsu.ox.ac.uk/crystal/field.cgi?id=50\n",
    "* 1707_2        Handedness (chirality/laterality): Left-handed  http://biobank.ctsu.ox.ac.uk/crystal/field.cgi?id=1707\n",
    "* 1707_3        Handedness (chirality/laterality): Use both right and left hands equally http://biobank.ctsu.ox.ac.uk/crystal/field.cgi?id=1707\n",
    "* 1747_1  Hair colour (natural, before greying): Blonde   http://biobank.ctsu.ox.ac.uk/crystal/field.cgi?id=1747\n",
    "* 1747_4  Hair colour (natural, before greying): Dark brown       http://biobank.ctsu.ox.ac.uk/crystal/field.cgi?id=1747\n",
    "* 1747_5  Hair colour (natural, before greying): Black    http://biobank.ctsu.ox.ac.uk/crystal/field.cgi?id=1747\n",
    "\n",
    "``wget`` commands:\n",
    "\n",
    "\n",
    "```\n",
    "wget https://broad-ukb-sumstats-us-east-1.s3.amazonaws.com/round2/additive-tsvs/50_irnt.gwas.imputed_v3.both_sexes.tsv.bgz -O 50_irnt.gwas.imputed_v3.both_sexes.tsv.bgz\n",
    "\n",
    "wget https://broad-ukb-sumstats-us-east-1.s3.amazonaws.com/round2/additive-tsvs/1707_2.gwas.imputed_v3.both_sexes.tsv.bgz -O 1707_2.gwas.imputed_v3.both_sexes.tsv.bgz\n",
    "\n",
    "wget https://broad-ukb-sumstats-us-east-1.s3.amazonaws.com/round2/additive-tsvs/1707_3.gwas.imputed_v3.both_sexes.tsv.bgz -O 1707_3.gwas.imputed_v3.both_sexes.tsv.bgz\n",
    "\n",
    "wget https://broad-ukb-sumstats-us-east-1.s3.amazonaws.com/round2/additive-tsvs/1747_1.gwas.imputed_v3.both_sexes.tsv.bgz -O 1747_1.gwas.imputed_v3.both_sexes.tsv.bgz\n",
    "\n",
    "wget https://broad-ukb-sumstats-us-east-1.s3.amazonaws.com/round2/additive-tsvs/1747_4.gwas.imputed_v3.both_sexes.tsv.bgz -O 1747_4.gwas.imputed_v3.both_sexes.tsv.bgz\n",
    "\n",
    "wget https://broad-ukb-sumstats-us-east-1.s3.amazonaws.com/round2/additive-tsvs/1747_5.gwas.imputed_v3.both_sexes.tsv.bgz -O 1747_5.gwas.imputed_v3.both_sexes.tsv.bgz\n",
    "```\n",
    "\n",
    "The summary statistics were then processed with https://github.com/BioPsyk/cleansumstats pipeline ``v1.6.0``, with dbSNP b156 as reference, using ``ukb_gwas/*.yaml`` files, and \n",
    "https://github.com/precimed/GWAS_SUMSTAT/blob/master/JF/run_cleansumstats_bulk.job script for pre- and post- processing of cleansumstats inputs/outputs.\n",
    "\n",
    "Afterwards the resulting sumstats were filtered with HapMap3 SNPs:\n"
   ]
  },
  {
   "cell_type": "code",
   "execution_count": null,
   "metadata": {},
   "outputs": [],
   "source": [
    "# prepare .hm3 summary stats (~1.2m SNPs)\n",
    "import pandas as pd\n",
    "\n",
    "df_hm3_rsid = pd.read_csv('imputed/w_hm3.justrs', sep='\\t', header=None, names=['RSID'])\n",
    "\n",
    "for trait in '''UKB_NEALELAB_2018_HAIR_BLACK\n",
    "UKB_NEALELAB_2018_HAIR_DARK_BROWN\n",
    "UKB_NEALELAB_2018_HAIR_BLONDE\n",
    "UKB_NEALELAB_2018_AMBIDEXT\n",
    "UKB_NEALELAB_2018_LEFTHAND\n",
    "UKB_NEALELAB_2018_HEIGHT\n",
    "'''.split():\n",
    "    df_gwas = pd.read_csv(f'ukb_gwas/{trait}.GRCh37.gz', sep='\\t')\n",
    "    df_gwas = pd.merge(df_gwas, df_hm3_rsid, how='inner')\n",
    "    \n",
    "    # due to the way I ran cleansumstats pipeline all effect sizes were flipped (A1<->A2 mismatch)\n",
    "    df_gwas['B'] = -df_gwas['B'].values\n",
    "    df_gwas['Z'] = -df_gwas['Z'].values\n",
    "    df_gwas.to_csv(f'ukb_gwas/{trait}.GRCh37.hm3',sep='\\t', index=False)\n"
   ]
  },
  {
   "cell_type": "code",
   "execution_count": null,
   "metadata": {},
   "outputs": [],
   "source": [
    "!gzip ukb_gwas/*hm3"
   ]
  }
 ],
 "metadata": {
  "kernelspec": {
   "display_name": "Python 3 (ipykernel)",
   "language": "python",
   "name": "python3"
  },
  "language_info": {
   "codemirror_mode": {
    "name": "ipython",
    "version": 3
   },
   "file_extension": ".py",
   "mimetype": "text/x-python",
   "name": "python",
   "nbconvert_exporter": "python",
   "pygments_lexer": "ipython3",
   "version": "3.7.3"
  }
 },
 "nbformat": 4,
 "nbformat_minor": 2
}
